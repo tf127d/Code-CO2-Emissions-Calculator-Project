{
  "nbformat": 4,
  "nbformat_minor": 0,
  "metadata": {
    "colab": {
      "provenance": [],
      "include_colab_link": true
    },
    "kernelspec": {
      "name": "python3",
      "display_name": "Python 3"
    },
    "language_info": {
      "name": "python"
    }
  },
  "cells": [
    {
      "cell_type": "markdown",
      "metadata": {
        "id": "view-in-github",
        "colab_type": "text"
      },
      "source": [
        "<a href=\"https://colab.research.google.com/github/tf127d/Code-CO2-Emissions-Calculator-Project/blob/main/Emission_Calculator.ipynb\" target=\"_parent\"><img src=\"https://colab.research.google.com/assets/colab-badge.svg\" alt=\"Open In Colab\"/></a>"
      ]
    },
    {
      "cell_type": "markdown",
      "source": [
        "# V1\n",
        "以距離計算碳排"
      ],
      "metadata": {
        "id": "uJMgccwusI_U"
      }
    },
    {
      "cell_type": "code",
      "metadata": {
        "id": "85f43584"
      },
      "source": [
        "emission_coefficients = {\n",
        "    'car': 173,  # grams per kilometer (average passenger car)\n",
        "    'train': 36, # grams per kilometer (estimated average)\n",
        "    'bus': 720,   # grams per kilometer (estimated average)\n",
        "}\n",
        "def calculate_emissions_for_all_modes(distance):\n",
        "    \"\"\"\n",
        "    Calculates carbon emissions for all transportation modes based on distance.\n",
        "\n",
        "    Args:\n",
        "        distance: The distance traveled in kilometers.\n",
        "\n",
        "    Returns:\n",
        "        A dictionary containing the calculated emissions for each transportation mode.\n",
        "    \"\"\"\n",
        "    emissions = {}\n",
        "    for mode, coefficient in emission_coefficients.items():\n",
        "        emissions[mode] = distance * coefficient\n",
        "    return emissions\n",
        "\n",
        "distance = float(input(\"請輸入您要移動的距離（以公里為單位）：\"))\n",
        "\n",
        "emissions_results = calculate_emissions_for_all_modes(distance)\n",
        "\n",
        "for mode, emission in emissions_results.items():\n",
        "    print(f\"{mode.capitalize()}: {emission:.2f} 克\")"
      ],
      "execution_count": null,
      "outputs": []
    },
    {
      "cell_type": "markdown",
      "source": [
        "# V2\n",
        "選擇交通方式"
      ],
      "metadata": {
        "id": "OJZJ-gSI2GQH"
      }
    },
    {
      "cell_type": "markdown",
      "source": [
        "1. 使用者從3個選項中選擇交通方式\n",
        "2. 輸出所選擇交通方式的碳排量\n",
        "3. 輸出建議選擇的交通方式以及其碳排量\n",
        "4. 使用者選擇是否接受建議\n",
        "5. 根據使用者的選擇輸出最終的交通方式"
      ],
      "metadata": {
        "id": "croqVfDG6fj1"
      }
    },
    {
      "cell_type": "code",
      "metadata": {
        "id": "e191a990"
      },
      "source": [
        "emission_coefficients = {\n",
        "    'car': 173,  # grams per kilometer (average passenger car)\n",
        "    'train': 36, # grams per kilometer (estimated average)\n",
        "    'bus': 720   # grams per kilometer (estimated average)\n",
        "}\n",
        "def calculate_emission(distance, mode):\n",
        "    \"\"\"\n",
        "    Calculates carbon emission for a specific transportation mode based on distance.\n",
        "\n",
        "    Args:\n",
        "        distance: The distance traveled in kilometers.\n",
        "        mode: The transportation mode ('car', 'train', or 'bus').\n",
        "\n",
        "    Returns:\n",
        "        The calculated emission in grams.\n",
        "    \"\"\"\n",
        "    if mode in emission_coefficients:\n",
        "        coefficient = emission_coefficients[mode]\n",
        "        emission = distance * coefficient\n",
        "        return emission\n",
        "    else:\n",
        "        return None # Or raise an error, depending on desired behavior\n",
        "def get_user_mode_choice():\n",
        "    \"\"\"\n",
        "    Prompts the user to choose a transportation mode.\n",
        "\n",
        "    Returns:\n",
        "        The chosen transportation mode as a string ('car', 'train', or 'bus').\n",
        "    \"\"\"\n",
        "    while True:\n",
        "        choice = input(\"請選擇交通方式 (Car, Train, Bus): \").lower()\n",
        "        if choice in ['car', 'train', 'bus']:\n",
        "            # Map user input to internal mode names\n",
        "            mode_mapping = {'car': 'car', 'train': 'train', 'bus': 'bus'}\n",
        "            return mode_mapping[choice]\n",
        "        else:\n",
        "            print(\"無效的選擇，請重新輸入。\")\n",
        "\n",
        "distance = 357.36 # Fixed distance\n",
        "user_mode = get_user_mode_choice()\n",
        "user_emission = calculate_emission(distance, user_mode)\n",
        "\n",
        "print(f\"\\n您選擇的交通方式的碳排放量為: {user_emission:.2f} 克\")\n",
        "def find_lowest_emission_mode(distance):\n",
        "    \"\"\"\n",
        "    Finds the transportation mode with the lowest carbon emission for a given distance.\n",
        "\n",
        "    Args:\n",
        "        distance: The distance traveled in kilometers.\n",
        "\n",
        "    Returns:\n",
        "        A tuple containing the mode with the lowest emission and the emission value.\n",
        "    \"\"\"\n",
        "    lowest_emission = float('inf')\n",
        "    lowest_mode = None\n",
        "    for mode, coefficient in emission_coefficients.items():\n",
        "        emission = distance * coefficient\n",
        "        if emission < lowest_emission:\n",
        "            lowest_emission = emission\n",
        "            lowest_mode = mode\n",
        "    return lowest_mode, lowest_emission_value\n",
        "\n",
        "lowest_mode, lowest_emission_value = find_lowest_emission_mode(distance)\n",
        "\n",
        "if user_mode != lowest_mode:\n",
        "    print(f\"\\n建議您選擇 {lowest_mode.capitalize()}，其碳排放量最低，約為 {lowest_emission_value:.2f} 克。\")\n",
        "\n",
        "    def get_user_acceptance():\n",
        "        \"\"\"\n",
        "        Asks the user if they accept the suggestion.\n",
        "\n",
        "        Returns:\n",
        "            True if the user accepts, False otherwise.\n",
        "        \"\"\"\n",
        "        while True:\n",
        "            response = input(\"您是否接受建議？ (是/否): \").lower()\n",
        "            if response in ['是', '否']:\n",
        "                return response == '是'\n",
        "            else:\n",
        "                print(\"無效的回應，請輸入 '是' 或 '否'。\")\n",
        "\n",
        "    if get_user_acceptance():\n",
        "        final_mode = lowest_mode\n",
        "        print(f\"\\n您接受了建議。最終選擇的交通方式為: {final_mode.capitalize()}\")\n",
        "    else:\n",
        "        final_mode = user_mode\n",
        "        print(f\"\\n您沒有接受建議。最終選擇的交通方式為: {final_mode.capitalize()}\")\n",
        "else:\n",
        "    final_mode = user_mode\n",
        "    print(f\"\\n您選擇的交通方式已經是碳排放量最低的了。最終選擇的交通方式為: {final_mode.capitalize()}\")"
      ],
      "execution_count": null,
      "outputs": []
    }
  ]
}